{
 "cells": [
  {
   "cell_type": "code",
   "execution_count": 1,
   "metadata": {},
   "outputs": [
    {
     "name": "stderr",
     "output_type": "stream",
     "text": [
      "WARNING: Logging before flag parsing goes to stderr.\n",
      "W0728 21:36:11.291670 43884 deprecation.py:323] From c:\\users\\gwanmo park\\appdata\\local\\programs\\python\\python37\\lib\\site-packages\\tensorflow\\python\\compat\\v2_compat.py:65: disable_resource_variables (from tensorflow.python.ops.variable_scope) is deprecated and will be removed in a future version.\n",
      "Instructions for updating:\n",
      "non-resource variables are not supported in the long term\n"
     ]
    }
   ],
   "source": [
    "import gym\n",
    "import numpy as np\n",
    "import tensorflow.compat.v1 as tf\n",
    "import matplotlib.pyplot as plt\n",
    "tf.disable_v2_behavior()"
   ]
  },
  {
   "cell_type": "code",
   "execution_count": 2,
   "metadata": {},
   "outputs": [],
   "source": [
    "def one_hot(x, n):\n",
    "    return np.identity(n)[x:x+1]"
   ]
  },
  {
   "cell_type": "code",
   "execution_count": 5,
   "metadata": {},
   "outputs": [],
   "source": [
    "def Q_learn(env_id, learning_rate=0.1, discount_rate=0.99, num_episodes=2000):\n",
    "    env = gym.make(env_id)\n",
    "    if env_id == 'CartPole-v0':\n",
    "        input_size = env.observation_space.shape[0]\n",
    "    else:\n",
    "        input_size = env.observation_space.n\n",
    "    output_size = env.action_space.n\n",
    "    \n",
    "    X = tf.placeholder(shape=[None, input_size], dtype=tf.float32)\n",
    "    W = tf.Variable(tf.random_uniform([input_size, output_size], 0, 0.01))\n",
    "    \n",
    "    Qpred = tf.matmul(X, W)\n",
    "    Y = tf.placeholder(shape=[1, output_size], dtype=tf.float32)\n",
    "    \n",
    "    loss = tf.reduce_sum(tf.square(Y-Qpred))\n",
    "    \n",
    "    train = tf.train.GradientDescentOptimizer(learning_rate=learning_rate).minimize(loss)\n",
    "#     train = tf.train.AdamOptimizer(learning_rate=learning_rate).minimize(loss)\n",
    "    \n",
    "    rList = []\n",
    "    \n",
    "    with tf.Session() as sess:\n",
    "        sess.run(tf.global_variables_initializer())\n",
    "        for i in range(num_episodes):\n",
    "            s = env.reset()\n",
    "            e = 1. / ((i/50) + 10)\n",
    "            rAll = 0\n",
    "            done = False\n",
    "            steps = 0\n",
    "            \n",
    "            while not done:\n",
    "                steps += 1\n",
    "                if env_id == \"CartPole-v0\":\n",
    "                    x = np.reshape(s, [1, input_size])\n",
    "                    Qs = sess.run(Qpred, feed_dict={X: x})\n",
    "                else:\n",
    "                    Qs = sess.run(Qpred, feed_dict={X: one_hot(s, input_size)})\n",
    "                    \n",
    "                if np.random.rand(1) < e:\n",
    "                    a = env.action_space.sample()\n",
    "                else:\n",
    "                    a = np.argmax(Qs)\n",
    "                \n",
    "                s1, reward, done, _ = env.step(a)\n",
    "                if done:\n",
    "                    if env_id == 'CartPole-v0':\n",
    "                        Qs[0, a] = -100\n",
    "                    else:\n",
    "                        Qs[0, a] = reward\n",
    "                else:\n",
    "                    if env_id == \"CartPole-v0\":\n",
    "                        x1 = np.reshape(s, [1, input_size])\n",
    "                        Qs1 = sess.run(Qpred, feed_dict={X: x1})\n",
    "                    else:\n",
    "                        Qs1 = sess.run(Qpred, feed_dict={X: one_hot(s1, input_size)})\n",
    "                    Qs[0, a] = reward + discount_rate * np.max(Qs1)\n",
    "                \n",
    "                if env_id == 'CartPole-v0':\n",
    "                    sess.run(train, feed_dict={X: x, Y:Qs})\n",
    "                else:\n",
    "                    sess.run(train, feed_dict={X: one_hot(s, input_size), Y: Qs})\n",
    "                \n",
    "                rAll += reward\n",
    "                s = s1\n",
    "            if env_id == 'CartPole-v0':\n",
    "                rList.append(steps)\n",
    "                if len(rList) > 10 and np.mean(rList[-10:]) > 500:\n",
    "                    break\n",
    "            else:\n",
    "                rList.append(rAll)\n",
    "    \n",
    "    print(\"Success rate: \" + str(sum(rList)/num_episodes))\n",
    "    plt.bar(range(len(rList)), rList, color='blue')\n",
    "    plt.show()"
   ]
  },
  {
   "cell_type": "code",
   "execution_count": 6,
   "metadata": {},
   "outputs": [
    {
     "name": "stdout",
     "output_type": "stream",
     "text": [
      "Success rate: 0.4565\n"
     ]
    },
    {
     "data": {
      "image/png": "[encoded data removed]",
      "text/plain": [
       "<Figure size 432x288 with 1 Axes>"
      ]
     },
     "metadata": {
      "needs_background": "light"
     },
     "output_type": "display_data"
    }
   ],
   "source": [
    "Q_learn('FrozenLake-v0')"
   ]
  },
  {
   "cell_type": "code",
   "execution_count": 7,
   "metadata": {},
   "outputs": [
    {
     "name": "stdout",
     "output_type": "stream",
     "text": [
      "Success rate: 31.216\n"
     ]
    },
    {
     "data": {
      "image/png": "[encoded data removed]",
      "text/plain": [
       "<Figure size 432x288 with 1 Axes>"
      ]
     },
     "metadata": {
      "needs_background": "light"
     },
     "output_type": "display_data"
    }
   ],
   "source": [
    "Q_learn('CartPole-v0')"
   ]
  },
  {
   "cell_type": "code",
   "execution_count": 4,
   "metadata": {},
   "outputs": [],
   "source": [
    "import tensorflow as tf"
   ]
  },
  {
   "cell_type": "code",
   "execution_count": 46,
   "metadata": {},
   "outputs": [],
   "source": [
    "def Q_learn_tf2(env_id, learning_rate=0.1, discount_rate=0.99, num_episodes=2000):\n",
    "    env = gym.make(env_id)\n",
    "    input_size = env.observation_space.n\n",
    "    output_size = env.action_space.n\n",
    "    \n",
    "    W = tf.Variable(tf.random.uniform(shape=(input_size, output_size), minval=0, maxval=0.01, dtype=tf.dtypes.float64))\n",
    "    \n",
    "    @tf.function\n",
    "    def Qpred(x, W):\n",
    "        return tf.matmul(x, W)\n",
    "    \n",
    "    def loss_fn(Y, Qpred):\n",
    "        return tf.reduce_sum(tf.square(Y-Qpred))\n",
    "    \n",
    "    optimizer = tf.optimizers.SGD(learning_rate=learning_rate)\n",
    "    \n",
    "    rList = []\n",
    "    for i in range(num_episodes):\n",
    "        s = env.reset()\n",
    "        e = 1. / ((i/50) + 10)\n",
    "        rAll = 0\n",
    "        done = False\n",
    "        local_loss = []\n",
    "        \n",
    "        while not done:\n",
    "            Qs = Qpred(one_hot(s, input_size), W).numpy()\n",
    "            if np.random.rand(1) < e:\n",
    "                a = env.action_space.sample()\n",
    "            else:\n",
    "                a = np.argmax(Qs)\n",
    "            \n",
    "            s1, reward, done, _ = env.step(a)\n",
    "            if done:\n",
    "                Qs[0, a] = reward\n",
    "            else:\n",
    "                Qs1 = Qpred(one_hot(s1, input_size), W)\n",
    "                Qs[0, a] = reward + discount_rate * np.max(Qs1)\n",
    "            \n",
    "            with tf.GradientTape() as tape:\n",
    "                loss = loss_fn(Qs1, tf.convert_to_tensor(Qs))\n",
    "            gradient = tape.gradient(loss, [W])\n",
    "            optimizer.apply_gradients(zip(gradient, [W]))\n",
    "            \n",
    "            rAll += reward\n",
    "            s = s1\n",
    "        rList.append(rAll)\n",
    "    print(\"Success rate: \" + str(sum(rList)/num_episodes))\n",
    "    plt.bar(range(len(rList)), rList, color='blue')\n",
    "    plt.show()"
   ]
  },
  {
   "cell_type": "code",
   "execution_count": 242,
   "metadata": {},
   "outputs": [],
   "source": [
    "def taxi_feature(state, action, env):\n",
    "    MAP = np.asarray([\\\n",
    "    \"+---------+\",\\\n",
    "    \"|R: | : :G|\",\\\n",
    "    \"| : : : : |\",\\\n",
    "    \"| : : : : |\",\\\n",
    "    \"| | : | : |\",\\\n",
    "    \"|Y| : |B: |\",\\\n",
    "    \"+---------+\",\\\n",
    "], dtype='c')\n",
    "    features = []\n",
    "    \n",
    "    locs = [(0,0), (0,4), (4,0), (4,3)]\n",
    "    taxi_row, taxi_col, passenger_idx, dest_idx = list(env.decode(state))\n",
    "    \n",
    "    taxi_loc = np.array([taxi_row, taxi_col])\n",
    "    wall = 0\n",
    "    if action == 0: #South\n",
    "        wall = 1 if taxi_row == 4 else 0\n",
    "        taxi_loc[0] = min(taxi_loc[0]+1, 4)\n",
    "    elif action == 1: #North\n",
    "        wall = 1 if taxi_row == 0 else 0\n",
    "        taxi_loc[0] = max(taxi_loc[0]-1, 0)\n",
    "    elif action == 2: #East\n",
    "        if MAP[1+taxi_row, 2*taxi_col + 2] == b\":\":\n",
    "            taxi_loc[1] = min(taxi_loc[1]+1, 4)\n",
    "        else:\n",
    "            wall = 1\n",
    "    elif action == 3: #West\n",
    "        if MAP[1+taxi_row, 2*taxi_col] == b\":\":\n",
    "            taxi_loc[1] = max(taxi_loc[1]-1, 0)\n",
    "        else:\n",
    "            wall = 1\n",
    "            \n",
    "    features.append(wall)\n",
    "        \n",
    "    passenger_loc = np.array(locs[passenger_idx]) if passenger_idx != 4 else taxi_loc\n",
    "    dest_loc = np.array(locs[dest_idx])\n",
    "    \n",
    "    with_passenger = 1 if passenger_idx == 4 else 0\n",
    "        \n",
    "    illegal = 0\n",
    "    done = 0\n",
    "    if action == 4:\n",
    "        if passenger_idx != 4 and (taxi_row, taxi_col) == locs[passenger_idx]:\n",
    "            with_passenger = 1\n",
    "            illegal = 0\n",
    "        else:\n",
    "            illegal = 1\n",
    "    if action == 5:\n",
    "        if (taxi_row, taxi_col) == locs[dest_idx] and passenger_idx == 4:\n",
    "            with_passenger = 0\n",
    "            illegal = 0\n",
    "            done = 1\n",
    "        elif (taxi_row, taxi_col) in locs and passenger_idx == 4:\n",
    "            with_passenger = 0\n",
    "            illegal = 0\n",
    "        else:\n",
    "            illegal = 1\n",
    "    \n",
    "    features.append(done)\n",
    "    features.append(with_passenger)\n",
    "    features.append(illegal)\n",
    "    \n",
    "    if with_passenger:\n",
    "        dist_to_passenger = 0\n",
    "    else:\n",
    "        dist_to_passenger = np.sum(np.abs(taxi_loc - passenger_loc))\n",
    "    inv_dist_to_p = 1 / dist_to_passenger**2 if dist_to_passenger != 0 else 2\n",
    "    \n",
    "#     features.append(inv_dist_to_p)\n",
    "        \n",
    "    dist_to_dest = np.sum(np.abs(taxi_loc - dest_loc))\n",
    "    inv_dist_to_d = 1 / dist_to_dest**2 if dist_to_dest != 0 else 2\n",
    "    \n",
    "#     features.append(inv_dist_to_d)\n",
    "    \n",
    "    if with_passenger:\n",
    "        expected_dist = dist_to_dest\n",
    "    else:\n",
    "        expected_dist = dist_to_passenger + np.sum(np.abs(passenger_loc - dest_loc))\n",
    "    inv_exp_d = 1 / expected_dist**2 if expected_dist != 0 else 2\n",
    "    \n",
    "    if action == 4 or action == 5:\n",
    "        inv_exp_d = 0\n",
    "    \n",
    "    features.append(inv_exp_d)\n",
    "    \n",
    "    return np.array(features)"
   ]
  },
  {
   "cell_type": "code",
   "execution_count": 243,
   "metadata": {},
   "outputs": [
    {
     "data": {
      "text/plain": [
       "array([1.  , 0.  , 0.  , 0.  , 0.25])"
      ]
     },
     "execution_count": 243,
     "metadata": {},
     "output_type": "execute_result"
    }
   ],
   "source": [
    "taxi_feature(45, 1, gym.make('Taxi-v2'))"
   ]
  },
  {
   "cell_type": "code",
   "execution_count": 258,
   "metadata": {},
   "outputs": [],
   "source": [
    "def Q_learn_feature(env_id, feature_func, learning_rate=0.05, discount_rate=0.99, num_episodes=2000):\n",
    "    env = gym.make(env_id)\n",
    "    w = np.random.rand(feature_func(0, 0, env).shape[0])\n",
    "    def Q(w, f):\n",
    "        return np.dot(w, f)\n",
    "    rList = []\n",
    "    for i in range(num_episodes):\n",
    "        cur_state = env.reset()\n",
    "        rAll = 0\n",
    "        done = False\n",
    "        \n",
    "        while not done:\n",
    "            if np.random.rand(1) < (1./(i//50 + 10)):\n",
    "                action = env.action_space.sample()\n",
    "            else:\n",
    "                action = np.argmax([Q(w, feature_func(cur_state, a, env)) for a in range(env.action_space.n)])\n",
    "                    \n",
    "            new_state, reward, done, _ = env.step(action)\n",
    "            \n",
    "            diff = reward + discount_rate * np.max([Q(w, feature_func(new_state, a, env)) \\\n",
    "                                                    for a in range(env.action_space.n)])  \\\n",
    "                                - Q(w, feature_func(cur_state, action, env))\n",
    "            w += learning_rate * diff * feature_func(cur_state, action, env)\n",
    "            \n",
    "            rAll += reward\n",
    "            cur_state = new_state\n",
    "#         print(rAll)\n",
    "#         print(w)\n",
    "        rList.append(rAll)\n",
    "    print(\"Average score: \" + str(sum(rList)/num_episodes))\n",
    "    print(\"Final Weights\")\n",
    "    print(w)\n",
    "    plt.plot(range(len(rList)), rList, color='blue')\n",
    "    plt.show()\n",
    "    return rList"
   ]
  },
  {
   "cell_type": "code",
   "execution_count": 253,
   "metadata": {},
   "outputs": [
    {
     "name": "stdout",
     "output_type": "stream",
     "text": [
      "Average score: -103.3875\n",
      "Final Weights\n",
      "[-7.10510575e-01  1.48897923e+03  2.20399411e+01 -9.61906067e+00\n",
      " -5.12562366e+01]\n"
     ]
    },
    {
     "data": {
      "image/png": "[encoded data removed]",
      "text/plain": [
       "<Figure size 432x288 with 1 Axes>"
      ]
     },
     "metadata": {
      "needs_background": "light"
     },
     "output_type": "display_data"
    }
   ],
   "source": [
    "r = Q_learn_feature('Taxi-v2', taxi_feature, learning_rate = 0.03, num_episodes = 2000)"
   ]
  },
  {
   "cell_type": "code",
   "execution_count": 208,
   "metadata": {},
   "outputs": [],
   "source": [
    "def play(env_id, feature_func, w):\n",
    "    env = gym.make(env_id)\n",
    "    cur_state = env.reset()\n",
    "    env.render()\n",
    "    done = False\n",
    "    def Q(w, f):\n",
    "        return np.dot(w, f)\n",
    "    while not done:\n",
    "        action = np.argmax([Q(w, feature_func(cur_state, a, env)) for a in range(env.action_space.n)])\n",
    "        new_state, reward, done, _ = env.step(action)\n",
    "        for a in range(env.action_space.n):\n",
    "            print(feature_func(cur_state, a, env))\n",
    "        env.render()\n",
    "        cur_state = new_state"
   ]
  }
 ],
 "metadata": {
  "kernelspec": {
   "display_name": "Python 3",
   "language": "python",
   "name": "python3"
  },
  "language_info": {
   "codemirror_mode": {
    "name": "ipython",
    "version": 3
   },
   "file_extension": ".py",
   "mimetype": "text/x-python",
   "name": "python",
   "nbconvert_exporter": "python",
   "pygments_lexer": "ipython3",
   "version": "3.7.3"
  }
 },
 "nbformat": 4,
 "nbformat_minor": 2
}
