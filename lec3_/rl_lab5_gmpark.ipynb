{
 "cells": [
  {
   "cell_type": "code",
   "execution_count": 1,
   "metadata": {},
   "outputs": [],
   "source": [
    "import gym\n",
    "import numpy as np\n",
    "import matplotlib.pyplot as plt"
   ]
  },
  {
   "cell_type": "code",
   "execution_count": 21,
   "metadata": {},
   "outputs": [],
   "source": [
    "env = gym.make('FrozenLake-v0')"
   ]
  },
  {
   "cell_type": "code",
   "execution_count": 25,
   "metadata": {},
   "outputs": [],
   "source": [
    "def learn(num_episodes=2000, discount_rate=0.99, learning_rate=0.85, mode='noise'):\n",
    "    # Construct an empty table for Q values\n",
    "    Q = np.zeros([env.observation_space.n, env.action_space.n])\n",
    "    rList = []\n",
    "    for i in range(num_episodes):\n",
    "    #   Reset environment to get start state\n",
    "        cur_state = env.reset()\n",
    "        rAll = 0\n",
    "        done = False\n",
    "\n",
    "        while not done:\n",
    "    #       Choose action for the current state with some randomness\n",
    "            if mode == 'noise':\n",
    "                action = np.argmax(Q[cur_state, :] + np.random.randn(1, env.action_space.n) / (i+1))\n",
    "            elif mode == 'e-greedy':\n",
    "                if np.random.rand(1) < (1./(i//100 + 1)):\n",
    "                    action = env.action_space.sample()\n",
    "                else:\n",
    "                    action = np.argmax(Q[cur_state, :])\n",
    "            else:\n",
    "                action = np.argmax(Q[cur_state, :])\n",
    "\n",
    "    #       Get new state and reward\n",
    "            new_state, reward, done, _ = env.step(action)\n",
    "\n",
    "    #       Update Q table\n",
    "            Q[cur_state, action] = (1-learning_rate) * Q[cur_state, action] + \\\n",
    "                        learning_rate * (reward + discount_rate * np.max(Q[new_state,:]))\n",
    "\n",
    "            rAll += reward\n",
    "            cur_state = new_state\n",
    "        \n",
    "        rList.append(rAll)\n",
    "    print(\"Success rate: \" + str(sum(rList)/num_episodes))\n",
    "    print(\"Final Q-TableValues\")\n",
    "    print(\"LEFT DOWN RIGHT UP\")\n",
    "    print(Q)\n",
    "    plt.bar(range(len(rList)), rList, color='blue')\n",
    "    plt.show()"
   ]
  },
  {
   "cell_type": "code",
   "execution_count": 34,
   "metadata": {},
   "outputs": [
    {
     "name": "stdout",
     "output_type": "stream",
     "text": [
      "Success rate: 0.0145\n",
      "Final Q-TableValues\n",
      "LEFT DOWN RIGHT UP\n",
      "[[0.   0.   0.   0.  ]\n",
      " [0.   0.   0.   0.  ]\n",
      " [0.   0.   0.   0.  ]\n",
      " [0.   0.   0.   0.  ]\n",
      " [0.   0.   0.   0.  ]\n",
      " [0.   0.   0.   0.  ]\n",
      " [0.   0.   0.   0.  ]\n",
      " [0.   0.   0.   0.  ]\n",
      " [0.   0.   0.   0.  ]\n",
      " [0.   0.   0.   0.  ]\n",
      " [0.   0.   0.   0.  ]\n",
      " [0.   0.   0.   0.  ]\n",
      " [0.   0.   0.   0.  ]\n",
      " [0.   0.   0.   0.99]\n",
      " [0.   0.   0.   0.  ]\n",
      " [0.   0.   0.   0.  ]]\n"
     ]
    },
    {
     "data": {
      "image/png": "[encoded data removed]",
      "text/plain": [
       "<Figure size 432x288 with 1 Axes>"
      ]
     },
     "metadata": {
      "needs_background": "light"
     },
     "output_type": "display_data"
    }
   ],
   "source": [
    "learn(learning_rate=1)"
   ]
  },
  {
   "cell_type": "code",
   "execution_count": 38,
   "metadata": {},
   "outputs": [
    {
     "name": "stdout",
     "output_type": "stream",
     "text": [
      "Success rate: 0.5225\n",
      "Final Q-TableValues\n",
      "LEFT DOWN RIGHT UP\n",
      "[[7.26573347e-01 4.32665298e-03 9.00198282e-03 9.13418571e-03]\n",
      " [1.05923390e-03 9.53670450e-04 1.03340069e-03 6.24709713e-01]\n",
      " [2.62030747e-03 4.36958991e-03 1.75148067e-03 5.93366886e-01]\n",
      " [3.03539976e-03 1.50225213e-04 1.05231578e-03 4.77639340e-01]\n",
      " [8.81158995e-01 9.38019498e-04 2.64819541e-03 9.39676858e-05]\n",
      " [0.00000000e+00 0.00000000e+00 0.00000000e+00 0.00000000e+00]\n",
      " [4.61667153e-04 9.66617425e-05 4.19986598e-05 2.30079887e-09]\n",
      " [0.00000000e+00 0.00000000e+00 0.00000000e+00 0.00000000e+00]\n",
      " [1.83741060e-04 2.78536392e-03 2.02655533e-03 3.61175850e-01]\n",
      " [2.05204095e-04 6.81933727e-01 1.09896321e-04 2.16824599e-04]\n",
      " [9.72226708e-02 1.60034944e-03 1.48713083e-04 2.51626608e-04]\n",
      " [0.00000000e+00 0.00000000e+00 0.00000000e+00 0.00000000e+00]\n",
      " [0.00000000e+00 0.00000000e+00 0.00000000e+00 0.00000000e+00]\n",
      " [4.10220277e-03 7.99521100e-04 9.28384995e-01 8.45987626e-04]\n",
      " [0.00000000e+00 0.00000000e+00 1.69141766e-01 0.00000000e+00]\n",
      " [0.00000000e+00 0.00000000e+00 0.00000000e+00 0.00000000e+00]]\n"
     ]
    },
    {
     "data": {
      "image/png": "[encoded data removed]",
      "text/plain": [
       "<Figure size 432x288 with 1 Axes>"
      ]
     },
     "metadata": {
      "needs_background": "light"
     },
     "output_type": "display_data"
    }
   ],
   "source": [
    "learn(learning_rate=0.85)"
   ]
  }
 ],
 "metadata": {
  "kernelspec": {
   "display_name": "Python 3",
   "language": "python",
   "name": "python3"
  },
  "language_info": {
   "codemirror_mode": {
    "name": "ipython",
    "version": 3
   },
   "file_extension": ".py",
   "mimetype": "text/x-python",
   "name": "python",
   "nbconvert_exporter": "python",
   "pygments_lexer": "ipython3",
   "version": "3.7.3"
  }
 },
 "nbformat": 4,
 "nbformat_minor": 2
}
