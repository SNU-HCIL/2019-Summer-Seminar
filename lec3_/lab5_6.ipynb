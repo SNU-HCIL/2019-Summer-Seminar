{
 "cells": [
  {
   "cell_type": "code",
   "execution_count": 1,
   "metadata": {},
   "outputs": [],
   "source": [
    "import gym\n",
    "import numpy as np\n",
    "import matplotlib.pyplot as plt\n",
    "import tensorflow as tf\n",
    "# env = gym.make('FrozenLake-v0')"
   ]
  },
  {
   "cell_type": "code",
   "execution_count": null,
   "metadata": {},
   "outputs": [],
   "source": [
    "def run(mode='noise'):\n",
    "    Q = np.zeros((env.observation_space.n, env.action_space.n))\n",
    "    dis = .99\n",
    "    num_episodes = 2000 \n",
    "    lr = .85\n",
    "    r_list = []\n",
    "    for i in range(num_episodes):\n",
    "        e = 1. / ((i // 100) + 1)\n",
    "        state = env.reset()\n",
    "        r_all = 0\n",
    "        done = False\n",
    "\n",
    "        while not done:\n",
    "            if mode == 'noise':\n",
    "                action = np.argmax(Q[state] + np.random.randn(1, env.action_space.n) / (i + 1))\n",
    "            else:\n",
    "                action = env.action_space.sample() if np.random.rand(1) < e else np.argmax(Q[state])       \n",
    "            new_state, reward, done, _ = env.step(action)\n",
    "            Q[state, action] = (1 - lr) * Q[state, action] + \\\n",
    "                lr * (reward + dis * np.max(Q[new_state]))\n",
    "            r_all += reward\n",
    "            state = new_state\n",
    "        r_list.append(r_all)\n",
    "    print(f'Success rate: {(sum(r_list) / num_episodes):.3f}')\n",
    "    print('Final Q-Table Values')\n",
    "    print(Q)\n",
    "    plt.plot(range(len(r_list)), r_list, color='blue')\n",
    "    plt.show()"
   ]
  },
  {
   "cell_type": "code",
   "execution_count": null,
   "metadata": {},
   "outputs": [],
   "source": [
    "run(mode='e-greedy')"
   ]
  },
  {
   "cell_type": "code",
   "execution_count": null,
   "metadata": {},
   "outputs": [],
   "source": [
    "def one_hot(x):\n",
    "    return np.identity(16)[x: x + 1]"
   ]
  },
  {
   "cell_type": "code",
   "execution_count": null,
   "metadata": {},
   "outputs": [],
   "source": [
    "input_size = env.observation_space.n\n",
    "output_size = env.action_space.n\n",
    "lr = 0.1\n",
    "X = tf.placeholder(shape=[1, input_size], dtype=tf.float32)\n",
    "W = tf.Variable(tf.random_uniform([input_size, output_size], 0, 0.01))\n",
    "Q_pred = tf.matmul(X, W)\n",
    "Y = tf.placeholder(shape=[1, output_size], dtype=tf.float32)\n",
    "loss = tf.reduce_sum(tf.square(Y - Q_pred))\n",
    "train = tf.train.GradientDescentOptimizer(learning_rate=lr).minimize(loss)\n",
    "\n",
    "dis = .99\n",
    "num_episodes = 2000\n",
    "r_list = []\n",
    "\n",
    "with tf.Session() as sess:\n",
    "    sess.run(tf.global_variables_initializer())\n",
    "    for i in range(num_episodes):\n",
    "        s = env.reset()\n",
    "        e = 1. / ((i / 50) + 10)\n",
    "        r_all = 0\n",
    "        done = False\n",
    "        local_loss = []\n",
    "\n",
    "        while not done:\n",
    "            Q_s = sess.run(Q_pred, feed_dict={X: one_hot(s)})\n",
    "            if np.random.rand(1) < e:\n",
    "                a = env.action_space.sample()\n",
    "            else:\n",
    "                a = np.argmax(Q_s)\n",
    "\n",
    "            s1, reward, done, _ = env.step(a)\n",
    "            if done:\n",
    "                Q_s[0, a] = reward\n",
    "            else:\n",
    "                Q_s1 = sess.run(Q_pred, feed_dict={X: one_hot(s1)})\n",
    "                Q_s[0, a] = reward + dis * np.max(Q_s1)\n",
    "            sess.run(train, feed_dict={X: one_hot(s), Y: Q_s})\n",
    "            r_all += reward\n",
    "            s = s1\n",
    "        r_list.append(r_all)\n",
    "    print(f'Success rate: {(sum(r_list) / num_episodes):.3f}')\n",
    "    print('Final Q-Table Values')\n",
    "    plt.plot(range(len(r_list)), r_list, color='blue')\n",
    "    plt.show()"
   ]
  },
  {
   "cell_type": "code",
   "execution_count": 2,
   "metadata": {},
   "outputs": [
    {
     "name": "stderr",
     "output_type": "stream",
     "text": [
      "WARNING: Logging before flag parsing goes to stderr.\n",
      "W0728 00:33:24.431920 140735572104064 lazy_loader.py:50] \n",
      "The TensorFlow contrib module will not be included in TensorFlow 2.0.\n",
      "For more information, please see:\n",
      "  * https://github.com/tensorflow/community/blob/master/rfcs/20180907-contrib-sunset.md\n",
      "  * https://github.com/tensorflow/addons\n",
      "  * https://github.com/tensorflow/io (for I/O related ops)\n",
      "If you depend on functionality not listed there, please file an issue.\n",
      "\n"
     ]
    }
   ],
   "source": [
    "env = gym.make('CartPole-v0')\n",
    "input_size = env.observation_space.shape[0]\n",
    "output_size = env.action_space.n\n",
    "lr = 0.1\n",
    "X = tf.placeholder(shape=[None, input_size], name=\"input_x\", dtype=tf.float32)\n",
    "W1 = tf.get_variable(\"W1\", shape=[input_size, output_size], initializer=tf.contrib.layers.xavier_initializer())\n",
    "Q_pred = tf.matmul(X, W1)"
   ]
  },
  {
   "cell_type": "code",
   "execution_count": 3,
   "metadata": {},
   "outputs": [],
   "source": [
    "Y = tf.placeholder(shape=[None, output_size], dtype=tf.float32)\n",
    "loss = tf.reduce_sum(tf.square(Y - Q_pred))\n",
    "train = tf.train.AdamOptimizer(learning_rate=lr).minimize(loss)"
   ]
  },
  {
   "cell_type": "code",
   "execution_count": 7,
   "metadata": {},
   "outputs": [
    {
     "name": "stdout",
     "output_type": "stream",
     "text": [
      "Total Score: 11.0\n"
     ]
    }
   ],
   "source": [
    "dis = .99\n",
    "num_episodes = 2000\n",
    "r_list = []\n",
    "\n",
    "with tf.Session() as sess:\n",
    "    sess.run(tf.global_variables_initializer())\n",
    "    for i in range(num_episodes):\n",
    "        s = env.reset()\n",
    "        e = 1. / ((i / 50) + 10)\n",
    "        step_count = 0\n",
    "        done = False\n",
    "        local_loss = []\n",
    "\n",
    "        while not done:\n",
    "            step_count += 1\n",
    "            x = s.reshape(1, input_size)\n",
    "            Q_s = sess.run(Q_pred, feed_dict={X: x})\n",
    "            if np.random.rand(1) < e:\n",
    "                a = env.action_space.sample()\n",
    "            else:\n",
    "                a = np.argmax(Q_s)\n",
    "\n",
    "            s1, reward, done, _ = env.step(a)\n",
    "            if done:\n",
    "                Q_s[0, a] = -100\n",
    "            else:\n",
    "                x1 = s1.reshape(1, input_size)\n",
    "                Q_s1 = sess.run(Q_pred, feed_dict={X: x1})\n",
    "                Q_s[0, a] = reward + dis * np.max(Q_s1)\n",
    "            sess.run(train, feed_dict={X: x, Y: Q_s})\n",
    "            s = s1\n",
    "        r_list.append(step_count)\n",
    "        if len(r_list) > 10 and np.mean(r_list[-10:]) > 500:\n",
    "            break\n",
    "    observation = env.reset()\n",
    "    reward_sum = 0\n",
    "    while True:\n",
    "        x = observation.reshape(1, input_size)\n",
    "        Q_s = sess.run(Q_pred, feed_dict={X: x})\n",
    "        observation, reward, done, _ = env.step(a)\n",
    "        reward_sum += reward\n",
    "        if done:\n",
    "            print(f'Total Score: {reward_sum}')\n",
    "            break"
   ]
  },
  {
   "cell_type": "code",
   "execution_count": null,
   "metadata": {},
   "outputs": [],
   "source": []
  }
 ],
 "metadata": {
  "kernelspec": {
   "display_name": "rl",
   "language": "python",
   "name": "rl"
  },
  "language_info": {
   "codemirror_mode": {
    "name": "ipython",
    "version": 3
   },
   "file_extension": ".py",
   "mimetype": "text/x-python",
   "name": "python",
   "nbconvert_exporter": "python",
   "pygments_lexer": "ipython3",
   "version": "3.6.8"
  }
 },
 "nbformat": 4,
 "nbformat_minor": 2
}
