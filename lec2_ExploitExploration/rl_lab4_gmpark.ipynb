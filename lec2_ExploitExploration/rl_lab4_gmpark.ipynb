{
 "cells": [
  {
   "cell_type": "code",
   "execution_count": 1,
   "metadata": {},
   "outputs": [],
   "source": [
    "import gym\n",
    "import numpy as np\n",
    "import matplotlib.pyplot as plt"
   ]
  },
  {
   "cell_type": "code",
   "execution_count": 2,
   "metadata": {},
   "outputs": [],
   "source": [
    "gym.envs.registration.register(id='FrozenLake-v3', entry_point='gym.envs.toy_text:FrozenLakeEnv',\n",
    "        kwargs={'map_name':'4x4', 'is_slippery':False})\n",
    "env = gym.make('FrozenLake-v3')"
   ]
  },
  {
   "cell_type": "code",
   "execution_count": 27,
   "metadata": {},
   "outputs": [],
   "source": [
    "def learn(num_episodes=3000, discount_rate=0.9, mode='noise'):\n",
    "    # Construct an empty table for Q values\n",
    "    Q = np.zeros([env.observation_space.n, env.action_space.n])\n",
    "    rList = []\n",
    "    for i in range(num_episodes):\n",
    "    #   Reset environment to get start state\n",
    "        cur_state = env.reset()\n",
    "        rAll = 0\n",
    "        done = False\n",
    "\n",
    "        while not done:\n",
    "    #       Choose action for the current state with some randomness\n",
    "            if mode == 'noise':\n",
    "                action = np.argmax(Q[cur_state, :] + np.random.randn(1, env.action_space.n) / (i+1))\n",
    "            elif mode == 'e-greedy':\n",
    "                if np.random.rand(1) < (1./(i//100 + 1)):\n",
    "                    action = env.action_space.sample()\n",
    "                else:\n",
    "                    action = np.argmax(Q[cur_state, :])\n",
    "            else:\n",
    "                action = np.argmax(Q[cur_state, :])\n",
    "\n",
    "    #       Get new state and reward\n",
    "            new_state, reward, done, _ = env.step(action)\n",
    "\n",
    "    #       Update Q table\n",
    "            Q[cur_state, action] = reward + discount_rate * np.max(Q[new_state,:])\n",
    "\n",
    "            rAll += reward\n",
    "            cur_state = new_state\n",
    "        \n",
    "        rList.append(rAll)\n",
    "    print(\"Success rate: \" + str(sum(rList)/num_episodes))\n",
    "    print(\"Final Q-TableValues\")\n",
    "    print(\"LEFT DOWN RIGHT UP\")\n",
    "    print(Q)\n",
    "    plt.plot(range(len(rList)), rList, color='blue')\n",
    "    plt.show()"
   ]
  },
  {
   "cell_type": "code",
   "execution_count": 23,
   "metadata": {},
   "outputs": [
    {
     "name": "stdout",
     "output_type": "stream",
     "text": [
      "Success rate: 0.9713333333333334\n",
      "Final Q-TableValues\n",
      "LEFT DOWN RIGHT UP\n",
      "[[0.      0.59049 0.      0.     ]\n",
      " [0.      0.      0.      0.     ]\n",
      " [0.      0.      0.      0.     ]\n",
      " [0.      0.      0.      0.     ]\n",
      " [0.      0.6561  0.      0.     ]\n",
      " [0.      0.      0.      0.     ]\n",
      " [0.      0.81    0.      0.     ]\n",
      " [0.      0.      0.      0.     ]\n",
      " [0.      0.      0.729   0.     ]\n",
      " [0.      0.81    0.      0.     ]\n",
      " [0.      0.9     0.      0.     ]\n",
      " [0.      0.      0.      0.     ]\n",
      " [0.      0.      0.      0.     ]\n",
      " [0.      0.      0.9     0.     ]\n",
      " [0.      0.      1.      0.     ]\n",
      " [0.      0.      0.      0.     ]]\n"
     ]
    },
    {
     "data": {
      "image/png": "[encoded data removed]",
      "text/plain": [
       "<Figure size 432x288 with 1 Axes>"
      ]
     },
     "metadata": {
      "needs_background": "light"
     },
     "output_type": "display_data"
    }
   ],
   "source": [
    "learn(mode='noise')"
   ]
  },
  {
   "cell_type": "code",
   "execution_count": 31,
   "metadata": {},
   "outputs": [
    {
     "name": "stdout",
     "output_type": "stream",
     "text": [
      "Success rate: 0.8643333333333333\n",
      "Final Q-TableValues\n",
      "LEFT DOWN RIGHT UP\n",
      "[[0.531441   0.59049    0.4782969  0.531441  ]\n",
      " [0.531441   0.         0.43046721 0.4782969 ]\n",
      " [0.4782969  0.         0.38742049 0.43046721]\n",
      " [0.43046721 0.         0.38742049 0.        ]\n",
      " [0.59049    0.6561     0.         0.531441  ]\n",
      " [0.         0.         0.         0.        ]\n",
      " [0.         0.         0.         0.43046721]\n",
      " [0.         0.         0.         0.        ]\n",
      " [0.6561     0.         0.729      0.59049   ]\n",
      " [0.6561     0.81       0.81       0.        ]\n",
      " [0.729      0.9        0.         0.38742049]\n",
      " [0.         0.         0.         0.        ]\n",
      " [0.         0.         0.         0.        ]\n",
      " [0.         0.81       0.9        0.729     ]\n",
      " [0.81       0.9        1.         0.81      ]\n",
      " [0.         0.         0.         0.        ]]\n"
     ]
    },
    {
     "data": {
      "image/png": "[encoded data removed]",
      "text/plain": [
       "<Figure size 432x288 with 1 Axes>"
      ]
     },
     "metadata": {
      "needs_background": "light"
     },
     "output_type": "display_data"
    }
   ],
   "source": [
    "learn(mode='e-greedy')"
   ]
  }
 ],
 "metadata": {
  "kernelspec": {
   "display_name": "Python 3",
   "language": "python",
   "name": "python3"
  },
  "language_info": {
   "codemirror_mode": {
    "name": "ipython",
    "version": 3
   },
   "file_extension": ".py",
   "mimetype": "text/x-python",
   "name": "python",
   "nbconvert_exporter": "python",
   "pygments_lexer": "ipython3",
   "version": "3.7.3"
  }
 },
 "nbformat": 4,
 "nbformat_minor": 2
}
